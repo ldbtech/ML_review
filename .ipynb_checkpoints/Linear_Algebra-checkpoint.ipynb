{
 "cells": [
  {
   "cell_type": "code",
   "execution_count": 2,
   "id": "da1fac80",
   "metadata": {},
   "outputs": [],
   "source": [
    "import numpy as np"
   ]
  },
  {
   "cell_type": "code",
   "execution_count": 11,
   "id": "f73a02af",
   "metadata": {},
   "outputs": [
    {
     "name": "stdout",
     "output_type": "stream",
     "text": [
      "Scalar:  56\n"
     ]
    }
   ],
   "source": [
    "### Scalar\n",
    "a = 56\n",
    "print(\"Scalar: \", a)"
   ]
  },
  {
   "cell_type": "code",
   "execution_count": 15,
   "id": "ca7478b9",
   "metadata": {},
   "outputs": [
    {
     "name": "stdout",
     "output_type": "stream",
     "text": [
      "Vector:\n",
      "  [[0.64816529]\n",
      " [0.10231767]\n",
      " [0.7803379 ]\n",
      " [0.54748554]\n",
      " [0.05367304]]\n"
     ]
    }
   ],
   "source": [
    "v = np.random.rand(5)\n",
    "vector = v.reshape(-1, 1)\n",
    "print(\"Vector:\\n \", vector)"
   ]
  },
  {
   "cell_type": "code",
   "execution_count": 17,
   "id": "a68e4c96",
   "metadata": {},
   "outputs": [
    {
     "name": "stdout",
     "output_type": "stream",
     "text": [
      "Matrix:\n",
      "  [[0.65159723 0.19022273 0.2693458  0.25735974 0.97267991 0.88749726]\n",
      " [0.16418254 0.61764657 0.69560999 0.71976891 0.99411854 0.15704391]\n",
      " [0.63437272 0.53723937 0.90840825 0.820709   0.13726255 0.88687179]\n",
      " [0.57047341 0.3960441  0.38325743 0.14011446 0.86386072 0.96415711]\n",
      " [0.02986489 0.39669442 0.80144916 0.4836158  0.78837829 0.06387607]]\n"
     ]
    }
   ],
   "source": [
    "A = np.random.rand(5,6)\n",
    "print(\"Matrix:\\n \", A)"
   ]
  },
  {
   "cell_type": "code",
   "execution_count": 22,
   "id": "d46865e9",
   "metadata": {},
   "outputs": [
    {
     "name": "stdout",
     "output_type": "stream",
     "text": [
      "Tensor: \n",
      " [[[0.55494841 0.75780899 0.60938367]\n",
      "  [0.77159654 0.49734149 0.91326996]\n",
      "  [0.0097024  0.57057586 0.13225791]\n",
      "  [0.11187607 0.4088924  0.90627233]\n",
      "  [0.63546899 0.20624093 0.39232207]\n",
      "  [0.45706944 0.2496688  0.09869877]]\n",
      "\n",
      " [[0.58490231 0.53159276 0.6606051 ]\n",
      "  [0.70646037 0.77867452 0.37401072]\n",
      "  [0.38825085 0.55779778 0.59187121]\n",
      "  [0.5122441  0.96980246 0.93198584]\n",
      "  [0.95541083 0.07423911 0.48274484]\n",
      "  [0.69382851 0.65567724 0.40038516]]\n",
      "\n",
      " [[0.13730384 0.12038545 0.52270337]\n",
      "  [0.0967239  0.8042677  0.29640855]\n",
      "  [0.33122783 0.13589451 0.3369043 ]\n",
      "  [0.2506491  0.69199945 0.6586566 ]\n",
      "  [0.50510877 0.82534793 0.68941958]\n",
      "  [0.15759898 0.83185849 0.60932813]]\n",
      "\n",
      " [[0.16162514 0.11907155 0.72388455]\n",
      "  [0.45412972 0.36183031 0.79792756]\n",
      "  [0.51629405 0.50058613 0.02352145]\n",
      "  [0.132494   0.78974167 0.84159523]\n",
      "  [0.11370005 0.75121147 0.46936495]\n",
      "  [0.68790331 0.50899959 0.08716094]]\n",
      "\n",
      " [[0.73547783 0.05125502 0.8106639 ]\n",
      "  [0.15463699 0.04958808 0.84350883]\n",
      "  [0.01096218 0.96318107 0.88877486]\n",
      "  [0.8300841  0.04946522 0.80371505]\n",
      "  [0.20526192 0.27929789 0.3678642 ]\n",
      "  [0.61320896 0.12125134 0.86356441]]]\n"
     ]
    }
   ],
   "source": [
    "tensor = np.random.rand(5, 6, 3)\n",
    "print(\"Tensor: \\n\", tensor)"
   ]
  },
  {
   "cell_type": "code",
   "execution_count": 23,
   "id": "29619e39",
   "metadata": {},
   "outputs": [
    {
     "name": "stdout",
     "output_type": "stream",
     "text": [
      "Transpose of A: \n",
      " [[0.65159723 0.16418254 0.63437272 0.57047341 0.02986489]\n",
      " [0.19022273 0.61764657 0.53723937 0.3960441  0.39669442]\n",
      " [0.2693458  0.69560999 0.90840825 0.38325743 0.80144916]\n",
      " [0.25735974 0.71976891 0.820709   0.14011446 0.4836158 ]\n",
      " [0.97267991 0.99411854 0.13726255 0.86386072 0.78837829]\n",
      " [0.88749726 0.15704391 0.88687179 0.96415711 0.06387607]]\n"
     ]
    }
   ],
   "source": [
    "# Transpose \n",
    "print(\"Transpose of A: \\n\", A.T)"
   ]
  },
  {
   "cell_type": "code",
   "execution_count": 22,
   "id": "a2f00990",
   "metadata": {},
   "outputs": [],
   "source": [
    "### Linear Dependence and Span:\n",
    "vectors = np.random.rand(3, 3)"
   ]
  },
  {
   "cell_type": "code",
   "execution_count": 23,
   "id": "1789d3e1",
   "metadata": {},
   "outputs": [
    {
     "data": {
      "text/plain": [
       "array([[0.63950099, 0.23674669, 0.75182933],\n",
       "       [0.84546017, 0.16769257, 0.67191132],\n",
       "       [0.91890554, 0.34327424, 0.94104654]])"
      ]
     },
     "execution_count": 23,
     "metadata": {},
     "output_type": "execute_result"
    }
   ],
   "source": [
    "vectors"
   ]
  },
  {
   "cell_type": "code",
   "execution_count": 24,
   "id": "12489a6f",
   "metadata": {},
   "outputs": [],
   "source": [
    "target_vector = np.random.rand(3, 1)"
   ]
  },
  {
   "cell_type": "code",
   "execution_count": 25,
   "id": "8a2d11ba",
   "metadata": {},
   "outputs": [
    {
     "data": {
      "text/plain": [
       "array([[0.59783401],\n",
       "       [0.61468102],\n",
       "       [0.79489764]])"
      ]
     },
     "execution_count": 25,
     "metadata": {},
     "output_type": "execute_result"
    }
   ],
   "source": [
    "target_vector"
   ]
  },
  {
   "cell_type": "code",
   "execution_count": 26,
   "id": "be3aed04",
   "metadata": {},
   "outputs": [
    {
     "name": "stdout",
     "output_type": "stream",
     "text": [
      "The vectors span the space.\n"
     ]
    }
   ],
   "source": [
    "# Determine if the vectors span the space that contains the target vector\n",
    "# Hint: You can use NumPy functions to check linear dependence.\n",
    "# Using Numpy: \n",
    "\n",
    "\n",
    "augmented_matrix = np.column_stack((vectors, target_vector))\n",
    "rank = np.linalg.matrix_rank(augmented_matrix)\n",
    "# Determine if the vectors span the space based on the rank\n",
    "if rank == np.linalg.matrix_rank(vectors):\n",
    "    print(\"The vectors span the space.\")\n",
    "else:\n",
    "    print(\"The vectors do not span the space.\")"
   ]
  },
  {
   "cell_type": "code",
   "execution_count": 32,
   "id": "6529962b",
   "metadata": {},
   "outputs": [
    {
     "name": "stdout",
     "output_type": "stream",
     "text": [
      "2\n",
      "(3, 3)\n",
      "There are linearly dependent vectors in the set.\n"
     ]
    }
   ],
   "source": [
    "# Linear Dependence: \n",
    "vectors = np.array([[1, 2, 3],\n",
    "                    [2, 4, 6],\n",
    "                    [3, 6, 10]])\n",
    "rank = np.linalg.matrix_rank(vectors)\n",
    "print(rank)\n",
    "if rank < min(vectors.shape):\n",
    "    print(\"There are linearly dependent vectors in the set.\")\n",
    "else:\n",
    "    print(\"There are no linearly dependent vectors in the set.\")\n",
    "\n"
   ]
  },
  {
   "cell_type": "code",
   "execution_count": null,
   "id": "abe8ccba",
   "metadata": {},
   "outputs": [],
   "source": []
  }
 ],
 "metadata": {
  "kernelspec": {
   "display_name": "Python 3 (ipykernel)",
   "language": "python",
   "name": "python3"
  },
  "language_info": {
   "codemirror_mode": {
    "name": "ipython",
    "version": 3
   },
   "file_extension": ".py",
   "mimetype": "text/x-python",
   "name": "python",
   "nbconvert_exporter": "python",
   "pygments_lexer": "ipython3",
   "version": "3.9.7"
  }
 },
 "nbformat": 4,
 "nbformat_minor": 5
}
